{
  "nbformat": 4,
  "nbformat_minor": 0,
  "metadata": {
    "colab": {
      "provenance": [],
      "authorship_tag": "ABX9TyNVPRT8AsNi1SzyHBYJlDSB",
      "include_colab_link": true
    },
    "kernelspec": {
      "name": "python3",
      "display_name": "Python 3"
    },
    "language_info": {
      "name": "python"
    }
  },
  "cells": [
    {
      "cell_type": "markdown",
      "metadata": {
        "id": "view-in-github",
        "colab_type": "text"
      },
      "source": [
        "<a href=\"https://colab.research.google.com/github/antonio-jf/portfolio/blob/main/Model_Tester_Human_or_Horse.ipynb\" target=\"_parent\"><img src=\"https://colab.research.google.com/assets/colab-badge.svg\" alt=\"Open In Colab\"/></a>"
      ]
    },
    {
      "cell_type": "markdown",
      "source": [
        "# Welcome to the Model-Tester for the Horse or Human Classifier! 🐴🧑\n",
        "This is the code used for testing the model, you can upload your own images or you can download some sample images from the portfolio subdirectory and load them into the model to test the accuracy of it.\n",
        "\n",
        "The only requirement is that you have a horse or human image in your PC, everything else is carried out for you.\n",
        "\n",
        "Just run the code blocks below and load your image!"
      ],
      "metadata": {
        "id": "Ni06i1wm7Ibq"
      }
    },
    {
      "cell_type": "code",
      "source": [
        "!wget https://www.dropbox.com/s/gkxsm5hkc367zd2/human-horse-classifier.zip"
      ],
      "metadata": {
        "id": "pwZPsWUvSr15"
      },
      "execution_count": null,
      "outputs": []
    },
    {
      "cell_type": "code",
      "source": [
        "import os\n",
        "import zipfile\n",
        "\n",
        "local_zip = '/content/human-horse-classifier.zip'\n",
        "zip_ref = zipfile.ZipFile(local_zip, 'r')\n",
        "zip_ref.extractall('/content/')\n",
        "zip_ref.close()"
      ],
      "metadata": {
        "id": "2CyL_usqS1DX"
      },
      "execution_count": null,
      "outputs": []
    },
    {
      "cell_type": "code",
      "execution_count": null,
      "metadata": {
        "id": "u9Ol-Dqr7Dcw"
      },
      "outputs": [],
      "source": [
        "import tensorflow as tf\n",
        "import numpy as np\n",
        "from google.colab import files\n",
        "\n",
        "model = tf.keras.models.load_model(\"/content/human-horse-classifier.h5\")\n",
        "\n",
        "# Upload a picture from local files\n",
        "files = files.upload()\n",
        "\n",
        "for fl in files.keys():\n",
        "  path = \"/content/\" + fl\n",
        "  img = tf.keras.utils.load_img(path, target_size = (100, 100))\n",
        "  x = tf.keras.utils.img_to_array(img)\n",
        "  x = x / 255.0\n",
        "  x = np.expand_dims(x, axis=0)\n",
        "\n",
        "  image_tensor = np.vstack([x])\n",
        "\n",
        "  classes = model.predict(image_tensor)\n",
        "  print(classes)\n",
        "  print(classes[0])\n",
        "  if classes[0]>0.5:\n",
        "    print(fl + \" is a human\")\n",
        "  else:\n",
        "    print(fl + \" is a horse\")\n",
        "\n",
        "\n",
        "\n"
      ]
    }
  ]
}
